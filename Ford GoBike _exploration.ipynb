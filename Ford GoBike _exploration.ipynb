{
 "cells": [
  {
   "cell_type": "markdown",
   "metadata": {},
   "source": [
    "# Ford GoBike System Data\n"
   ]
  },
  {
   "cell_type": "markdown",
   "metadata": {},
   "source": [
    "## Introduction"
   ]
  },
  {
   "cell_type": "markdown",
   "metadata": {},
   "source": [
    "Ford GoBike is the Bay Area's bike share system. In 2017, Ford GoBike will reinvent bike share in the Bay Area with 7,000 bikes across San Francisco, the East Bay and San Jose. Ford GoBike is expected to become an essential part of the Bay Area's transportation network.\n",
    "\n",
    "Ford GoBike, like other bike share systems, consists of a fleet of specially designed, sturdy and durable bikes that are locked into a network of docking stations throughout the city. The bikes can be unlocked from one station and returned to any other station in the system, making them ideal for one-way trips. It's a fun, convenient and affordable way to get around.\n",
    "\n",
    "The bikes are available for use 24 hours/day, 7 days/week, 365 days/year and riders have access to all bikes in the network when they become a member or purchase a pass"
   ]
  },
  {
   "cell_type": "markdown",
   "metadata": {},
   "source": [
    "## Preliminary Wrangling\n"
   ]
  },
  {
   "cell_type": "code",
   "execution_count": 1,
   "metadata": {},
   "outputs": [],
   "source": [
    "# import all packages and set plots to be embedded inline\n",
    "import numpy as np\n",
    "import pandas as pd\n",
    "import matplotlib.pyplot as plt\n",
    "import seaborn as sb\n",
    "import datetime\n",
    "\n",
    "\n",
    "%matplotlib inline"
   ]
  },
  {
   "cell_type": "code",
   "execution_count": 2,
   "metadata": {},
   "outputs": [],
   "source": [
    "# load in the dataset \n",
    "df=pd.read_csv('202007-baywheels-tripdata.csv')"
   ]
  },
  {
   "cell_type": "code",
   "execution_count": 3,
   "metadata": {},
   "outputs": [
    {
     "data": {
      "text/html": [
       "<div>\n",
       "<style scoped>\n",
       "    .dataframe tbody tr th:only-of-type {\n",
       "        vertical-align: middle;\n",
       "    }\n",
       "\n",
       "    .dataframe tbody tr th {\n",
       "        vertical-align: top;\n",
       "    }\n",
       "\n",
       "    .dataframe thead th {\n",
       "        text-align: right;\n",
       "    }\n",
       "</style>\n",
       "<table border=\"1\" class=\"dataframe\">\n",
       "  <thead>\n",
       "    <tr style=\"text-align: right;\">\n",
       "      <th></th>\n",
       "      <th>ride_id</th>\n",
       "      <th>rideable_type</th>\n",
       "      <th>started_at</th>\n",
       "      <th>ended_at</th>\n",
       "      <th>start_station_name</th>\n",
       "      <th>start_station_id</th>\n",
       "      <th>end_station_name</th>\n",
       "      <th>end_station_id</th>\n",
       "      <th>start_lat</th>\n",
       "      <th>start_lng</th>\n",
       "      <th>end_lat</th>\n",
       "      <th>end_lng</th>\n",
       "      <th>member_casual</th>\n",
       "    </tr>\n",
       "  </thead>\n",
       "  <tbody>\n",
       "    <tr>\n",
       "      <th>0</th>\n",
       "      <td>68213B7BB2420043</td>\n",
       "      <td>electric_bike</td>\n",
       "      <td>2020-07-31 17:36:17</td>\n",
       "      <td>2020-07-31 17:48:13</td>\n",
       "      <td>NaN</td>\n",
       "      <td>NaN</td>\n",
       "      <td>McAllister St at Baker St</td>\n",
       "      <td>52.0</td>\n",
       "      <td>37.790000</td>\n",
       "      <td>-122.460000</td>\n",
       "      <td>37.777414</td>\n",
       "      <td>-122.441949</td>\n",
       "      <td>casual</td>\n",
       "    </tr>\n",
       "    <tr>\n",
       "      <th>1</th>\n",
       "      <td>A64F0CD3A8E59529</td>\n",
       "      <td>electric_bike</td>\n",
       "      <td>2020-07-31 19:42:50</td>\n",
       "      <td>2020-07-31 19:49:54</td>\n",
       "      <td>Buchanan St at North Point St</td>\n",
       "      <td>400.0</td>\n",
       "      <td>Buchanan St at North Point St</td>\n",
       "      <td>400.0</td>\n",
       "      <td>37.804388</td>\n",
       "      <td>-122.433510</td>\n",
       "      <td>37.804408</td>\n",
       "      <td>-122.433509</td>\n",
       "      <td>casual</td>\n",
       "    </tr>\n",
       "    <tr>\n",
       "      <th>2</th>\n",
       "      <td>B3690CA0F5179242</td>\n",
       "      <td>electric_bike</td>\n",
       "      <td>2020-07-31 17:18:46</td>\n",
       "      <td>2020-07-31 17:36:31</td>\n",
       "      <td>NaN</td>\n",
       "      <td>NaN</td>\n",
       "      <td>Hyde St at Post St</td>\n",
       "      <td>369.0</td>\n",
       "      <td>37.760000</td>\n",
       "      <td>-122.410000</td>\n",
       "      <td>37.787422</td>\n",
       "      <td>-122.416777</td>\n",
       "      <td>casual</td>\n",
       "    </tr>\n",
       "    <tr>\n",
       "      <th>3</th>\n",
       "      <td>162FFE2E157F4C8F</td>\n",
       "      <td>electric_bike</td>\n",
       "      <td>2020-07-31 20:48:47</td>\n",
       "      <td>2020-07-31 21:05:04</td>\n",
       "      <td>Jersey St at Castro St</td>\n",
       "      <td>137.0</td>\n",
       "      <td>NaN</td>\n",
       "      <td>NaN</td>\n",
       "      <td>37.750576</td>\n",
       "      <td>-122.433743</td>\n",
       "      <td>37.770000</td>\n",
       "      <td>-122.420000</td>\n",
       "      <td>casual</td>\n",
       "    </tr>\n",
       "    <tr>\n",
       "      <th>4</th>\n",
       "      <td>C5DA8100F428B934</td>\n",
       "      <td>electric_bike</td>\n",
       "      <td>2020-07-31 20:18:24</td>\n",
       "      <td>2020-07-31 20:24:26</td>\n",
       "      <td>Market St at Steuart St</td>\n",
       "      <td>16.0</td>\n",
       "      <td>NaN</td>\n",
       "      <td>NaN</td>\n",
       "      <td>37.794582</td>\n",
       "      <td>-122.394791</td>\n",
       "      <td>37.790000</td>\n",
       "      <td>-122.400000</td>\n",
       "      <td>casual</td>\n",
       "    </tr>\n",
       "  </tbody>\n",
       "</table>\n",
       "</div>"
      ],
      "text/plain": [
       "            ride_id  rideable_type           started_at             ended_at  \\\n",
       "0  68213B7BB2420043  electric_bike  2020-07-31 17:36:17  2020-07-31 17:48:13   \n",
       "1  A64F0CD3A8E59529  electric_bike  2020-07-31 19:42:50  2020-07-31 19:49:54   \n",
       "2  B3690CA0F5179242  electric_bike  2020-07-31 17:18:46  2020-07-31 17:36:31   \n",
       "3  162FFE2E157F4C8F  electric_bike  2020-07-31 20:48:47  2020-07-31 21:05:04   \n",
       "4  C5DA8100F428B934  electric_bike  2020-07-31 20:18:24  2020-07-31 20:24:26   \n",
       "\n",
       "              start_station_name  start_station_id  \\\n",
       "0                            NaN               NaN   \n",
       "1  Buchanan St at North Point St             400.0   \n",
       "2                            NaN               NaN   \n",
       "3         Jersey St at Castro St             137.0   \n",
       "4        Market St at Steuart St              16.0   \n",
       "\n",
       "                end_station_name  end_station_id  start_lat   start_lng  \\\n",
       "0      McAllister St at Baker St            52.0  37.790000 -122.460000   \n",
       "1  Buchanan St at North Point St           400.0  37.804388 -122.433510   \n",
       "2             Hyde St at Post St           369.0  37.760000 -122.410000   \n",
       "3                            NaN             NaN  37.750576 -122.433743   \n",
       "4                            NaN             NaN  37.794582 -122.394791   \n",
       "\n",
       "     end_lat     end_lng member_casual  \n",
       "0  37.777414 -122.441949        casual  \n",
       "1  37.804408 -122.433509        casual  \n",
       "2  37.787422 -122.416777        casual  \n",
       "3  37.770000 -122.420000        casual  \n",
       "4  37.790000 -122.400000        casual  "
      ]
     },
     "execution_count": 3,
     "metadata": {},
     "output_type": "execute_result"
    }
   ],
   "source": [
    "#show the dataset \n",
    "df.head()"
   ]
  },
  {
   "cell_type": "code",
   "execution_count": 4,
   "metadata": {},
   "outputs": [
    {
     "name": "stdout",
     "output_type": "stream",
     "text": [
      "<class 'pandas.core.frame.DataFrame'>\n",
      "RangeIndex: 154967 entries, 0 to 154966\n",
      "Data columns (total 13 columns):\n",
      " #   Column              Non-Null Count   Dtype  \n",
      "---  ------              --------------   -----  \n",
      " 0   ride_id             154967 non-null  object \n",
      " 1   rideable_type       154967 non-null  object \n",
      " 2   started_at          154967 non-null  object \n",
      " 3   ended_at            154967 non-null  object \n",
      " 4   start_station_name  102589 non-null  object \n",
      " 5   start_station_id    102589 non-null  float64\n",
      " 6   end_station_name    100407 non-null  object \n",
      " 7   end_station_id      100407 non-null  float64\n",
      " 8   start_lat           154967 non-null  float64\n",
      " 9   start_lng           154967 non-null  float64\n",
      " 10  end_lat             154771 non-null  float64\n",
      " 11  end_lng             154771 non-null  float64\n",
      " 12  member_casual       154967 non-null  object \n",
      "dtypes: float64(6), object(7)\n",
      "memory usage: 15.4+ MB\n"
     ]
    }
   ],
   "source": [
    "df.info()"
   ]
  },
  {
   "cell_type": "code",
   "execution_count": 5,
   "metadata": {},
   "outputs": [
    {
     "data": {
      "text/html": [
       "<div>\n",
       "<style scoped>\n",
       "    .dataframe tbody tr th:only-of-type {\n",
       "        vertical-align: middle;\n",
       "    }\n",
       "\n",
       "    .dataframe tbody tr th {\n",
       "        vertical-align: top;\n",
       "    }\n",
       "\n",
       "    .dataframe thead th {\n",
       "        text-align: right;\n",
       "    }\n",
       "</style>\n",
       "<table border=\"1\" class=\"dataframe\">\n",
       "  <thead>\n",
       "    <tr style=\"text-align: right;\">\n",
       "      <th></th>\n",
       "      <th>start_station_id</th>\n",
       "      <th>end_station_id</th>\n",
       "      <th>start_lat</th>\n",
       "      <th>start_lng</th>\n",
       "      <th>end_lat</th>\n",
       "      <th>end_lng</th>\n",
       "    </tr>\n",
       "  </thead>\n",
       "  <tbody>\n",
       "    <tr>\n",
       "      <th>count</th>\n",
       "      <td>102589.00000</td>\n",
       "      <td>100407.000000</td>\n",
       "      <td>154967.000000</td>\n",
       "      <td>154967.000000</td>\n",
       "      <td>154771.000000</td>\n",
       "      <td>154771.000000</td>\n",
       "    </tr>\n",
       "    <tr>\n",
       "      <th>mean</th>\n",
       "      <td>224.38394</td>\n",
       "      <td>220.963837</td>\n",
       "      <td>37.732393</td>\n",
       "      <td>-122.357516</td>\n",
       "      <td>37.732502</td>\n",
       "      <td>-122.353342</td>\n",
       "    </tr>\n",
       "    <tr>\n",
       "      <th>std</th>\n",
       "      <td>172.17782</td>\n",
       "      <td>172.435490</td>\n",
       "      <td>0.138354</td>\n",
       "      <td>0.167669</td>\n",
       "      <td>0.138407</td>\n",
       "      <td>0.599176</td>\n",
       "    </tr>\n",
       "    <tr>\n",
       "      <th>min</th>\n",
       "      <td>3.00000</td>\n",
       "      <td>3.000000</td>\n",
       "      <td>37.240000</td>\n",
       "      <td>-122.510000</td>\n",
       "      <td>37.230000</td>\n",
       "      <td>-122.510000</td>\n",
       "    </tr>\n",
       "    <tr>\n",
       "      <th>25%</th>\n",
       "      <td>72.00000</td>\n",
       "      <td>72.000000</td>\n",
       "      <td>37.760000</td>\n",
       "      <td>-122.433274</td>\n",
       "      <td>37.760000</td>\n",
       "      <td>-122.432532</td>\n",
       "    </tr>\n",
       "    <tr>\n",
       "      <th>50%</th>\n",
       "      <td>153.00000</td>\n",
       "      <td>145.000000</td>\n",
       "      <td>37.773981</td>\n",
       "      <td>-122.413233</td>\n",
       "      <td>37.773953</td>\n",
       "      <td>-122.412408</td>\n",
       "    </tr>\n",
       "    <tr>\n",
       "      <th>75%</th>\n",
       "      <td>385.00000</td>\n",
       "      <td>384.000000</td>\n",
       "      <td>37.788299</td>\n",
       "      <td>-122.391967</td>\n",
       "      <td>37.788472</td>\n",
       "      <td>-122.391984</td>\n",
       "    </tr>\n",
       "    <tr>\n",
       "      <th>max</th>\n",
       "      <td>534.00000</td>\n",
       "      <td>534.000000</td>\n",
       "      <td>37.880222</td>\n",
       "      <td>-121.770000</td>\n",
       "      <td>37.880222</td>\n",
       "      <td>-42.344893</td>\n",
       "    </tr>\n",
       "  </tbody>\n",
       "</table>\n",
       "</div>"
      ],
      "text/plain": [
       "       start_station_id  end_station_id      start_lat      start_lng  \\\n",
       "count      102589.00000   100407.000000  154967.000000  154967.000000   \n",
       "mean          224.38394      220.963837      37.732393    -122.357516   \n",
       "std           172.17782      172.435490       0.138354       0.167669   \n",
       "min             3.00000        3.000000      37.240000    -122.510000   \n",
       "25%            72.00000       72.000000      37.760000    -122.433274   \n",
       "50%           153.00000      145.000000      37.773981    -122.413233   \n",
       "75%           385.00000      384.000000      37.788299    -122.391967   \n",
       "max           534.00000      534.000000      37.880222    -121.770000   \n",
       "\n",
       "             end_lat        end_lng  \n",
       "count  154771.000000  154771.000000  \n",
       "mean       37.732502    -122.353342  \n",
       "std         0.138407       0.599176  \n",
       "min        37.230000    -122.510000  \n",
       "25%        37.760000    -122.432532  \n",
       "50%        37.773953    -122.412408  \n",
       "75%        37.788472    -122.391984  \n",
       "max        37.880222     -42.344893  "
      ]
     },
     "execution_count": 5,
     "metadata": {},
     "output_type": "execute_result"
    }
   ],
   "source": [
    "df.describe()"
   ]
  },
  {
   "cell_type": "code",
   "execution_count": 6,
   "metadata": {
    "scrolled": true
   },
   "outputs": [
    {
     "data": {
      "text/plain": [
       "ride_id                   0\n",
       "rideable_type             0\n",
       "started_at                0\n",
       "ended_at                  0\n",
       "start_station_name    52378\n",
       "start_station_id      52378\n",
       "end_station_name      54560\n",
       "end_station_id        54560\n",
       "start_lat                 0\n",
       "start_lng                 0\n",
       "end_lat                 196\n",
       "end_lng                 196\n",
       "member_casual             0\n",
       "dtype: int64"
      ]
     },
     "execution_count": 6,
     "metadata": {},
     "output_type": "execute_result"
    }
   ],
   "source": [
    "#Check if the values are missing \n",
    "df.isnull().sum()"
   ]
  },
  {
   "cell_type": "code",
   "execution_count": 7,
   "metadata": {},
   "outputs": [],
   "source": [
    "df_clean = df\n",
    "#Delete unused columns\n",
    "df_clean=df_clean.drop(['started_at', 'ended_at','start_lat','end_lat','end_lng','start_lng','started_at','ended_at'], axis=1)\n",
    "#Remove the null\n",
    "df_clean.dropna(subset = [\"start_station_name\",\"end_station_name\",\"start_station_id\",\"end_station_id\"], inplace=True)\n"
   ]
  },
  {
   "cell_type": "code",
   "execution_count": 8,
   "metadata": {},
   "outputs": [
    {
     "data": {
      "text/plain": [
       "ride_id               0\n",
       "rideable_type         0\n",
       "start_station_name    0\n",
       "start_station_id      0\n",
       "end_station_name      0\n",
       "end_station_id        0\n",
       "member_casual         0\n",
       "dtype: int64"
      ]
     },
     "execution_count": 8,
     "metadata": {},
     "output_type": "execute_result"
    }
   ],
   "source": [
    "df_clean.isnull().sum()"
   ]
  },
  {
   "cell_type": "code",
   "execution_count": 9,
   "metadata": {},
   "outputs": [],
   "source": [
    "#change data type to integer\n",
    "df_clean['start_station_id']=df_clean['start_station_id'].astype(int)\n",
    "df_clean['end_station_id']=df_clean['end_station_id'].astype(int)"
   ]
  },
  {
   "cell_type": "code",
   "execution_count": 10,
   "metadata": {},
   "outputs": [
    {
     "name": "stdout",
     "output_type": "stream",
     "text": [
      "<class 'pandas.core.frame.DataFrame'>\n",
      "Int64Index: 83530 entries, 1 to 154966\n",
      "Data columns (total 7 columns):\n",
      " #   Column              Non-Null Count  Dtype \n",
      "---  ------              --------------  ----- \n",
      " 0   ride_id             83530 non-null  object\n",
      " 1   rideable_type       83530 non-null  object\n",
      " 2   start_station_name  83530 non-null  object\n",
      " 3   start_station_id    83530 non-null  int32 \n",
      " 4   end_station_name    83530 non-null  object\n",
      " 5   end_station_id      83530 non-null  int32 \n",
      " 6   member_casual       83530 non-null  object\n",
      "dtypes: int32(2), object(5)\n",
      "memory usage: 4.5+ MB\n"
     ]
    }
   ],
   "source": [
    "df_clean.info()"
   ]
  },
  {
   "cell_type": "code",
   "execution_count": 11,
   "metadata": {},
   "outputs": [
    {
     "data": {
      "text/html": [
       "<div>\n",
       "<style scoped>\n",
       "    .dataframe tbody tr th:only-of-type {\n",
       "        vertical-align: middle;\n",
       "    }\n",
       "\n",
       "    .dataframe tbody tr th {\n",
       "        vertical-align: top;\n",
       "    }\n",
       "\n",
       "    .dataframe thead th {\n",
       "        text-align: right;\n",
       "    }\n",
       "</style>\n",
       "<table border=\"1\" class=\"dataframe\">\n",
       "  <thead>\n",
       "    <tr style=\"text-align: right;\">\n",
       "      <th></th>\n",
       "      <th>ride_id</th>\n",
       "      <th>rideable_type</th>\n",
       "      <th>start_station_name</th>\n",
       "      <th>start_station_id</th>\n",
       "      <th>end_station_name</th>\n",
       "      <th>end_station_id</th>\n",
       "      <th>member_casual</th>\n",
       "      <th>start_date</th>\n",
       "      <th>start_time</th>\n",
       "      <th>end_date</th>\n",
       "      <th>end_time</th>\n",
       "    </tr>\n",
       "  </thead>\n",
       "  <tbody>\n",
       "    <tr>\n",
       "      <th>1</th>\n",
       "      <td>A64F0CD3A8E59529</td>\n",
       "      <td>electric_bike</td>\n",
       "      <td>Buchanan St at North Point St</td>\n",
       "      <td>400</td>\n",
       "      <td>Buchanan St at North Point St</td>\n",
       "      <td>400</td>\n",
       "      <td>casual</td>\n",
       "      <td>2020-07-31</td>\n",
       "      <td>19:42:50</td>\n",
       "      <td>2020-07-31</td>\n",
       "      <td>19:49:54</td>\n",
       "    </tr>\n",
       "    <tr>\n",
       "      <th>12</th>\n",
       "      <td>69870487B4A7E755</td>\n",
       "      <td>electric_bike</td>\n",
       "      <td>Mission Bay Kids Park</td>\n",
       "      <td>92</td>\n",
       "      <td>The Embarcadero at Bryant St</td>\n",
       "      <td>28</td>\n",
       "      <td>casual</td>\n",
       "      <td>2020-07-22</td>\n",
       "      <td>18:57:38</td>\n",
       "      <td>2020-07-22</td>\n",
       "      <td>19:09:26</td>\n",
       "    </tr>\n",
       "    <tr>\n",
       "      <th>13</th>\n",
       "      <td>D33B8F211BE3957D</td>\n",
       "      <td>electric_bike</td>\n",
       "      <td>Church St at Duboce Ave</td>\n",
       "      <td>85</td>\n",
       "      <td>Church St at Duboce Ave</td>\n",
       "      <td>85</td>\n",
       "      <td>casual</td>\n",
       "      <td>2020-07-23</td>\n",
       "      <td>16:44:02</td>\n",
       "      <td>2020-07-23</td>\n",
       "      <td>16:44:31</td>\n",
       "    </tr>\n",
       "    <tr>\n",
       "      <th>17</th>\n",
       "      <td>1D66FB2B5768E4F7</td>\n",
       "      <td>electric_bike</td>\n",
       "      <td>22nd St at Dolores St</td>\n",
       "      <td>131</td>\n",
       "      <td>Laguna St at Hayes St</td>\n",
       "      <td>74</td>\n",
       "      <td>casual</td>\n",
       "      <td>2020-07-22</td>\n",
       "      <td>17:12:32</td>\n",
       "      <td>2020-07-22</td>\n",
       "      <td>17:24:56</td>\n",
       "    </tr>\n",
       "    <tr>\n",
       "      <th>18</th>\n",
       "      <td>A27702B61828E941</td>\n",
       "      <td>electric_bike</td>\n",
       "      <td>Laguna St at Hayes St</td>\n",
       "      <td>74</td>\n",
       "      <td>22nd St at Dolores St</td>\n",
       "      <td>131</td>\n",
       "      <td>casual</td>\n",
       "      <td>2020-07-22</td>\n",
       "      <td>20:45:16</td>\n",
       "      <td>2020-07-22</td>\n",
       "      <td>20:59:15</td>\n",
       "    </tr>\n",
       "    <tr>\n",
       "      <th>...</th>\n",
       "      <td>...</td>\n",
       "      <td>...</td>\n",
       "      <td>...</td>\n",
       "      <td>...</td>\n",
       "      <td>...</td>\n",
       "      <td>...</td>\n",
       "      <td>...</td>\n",
       "      <td>...</td>\n",
       "      <td>...</td>\n",
       "      <td>...</td>\n",
       "      <td>...</td>\n",
       "    </tr>\n",
       "    <tr>\n",
       "      <th>154962</th>\n",
       "      <td>E084E6C3FA402D75</td>\n",
       "      <td>docked_bike</td>\n",
       "      <td>Embarcadero BART Station (Beale St at Market St)</td>\n",
       "      <td>17</td>\n",
       "      <td>Washington St at Kearny St</td>\n",
       "      <td>10</td>\n",
       "      <td>casual</td>\n",
       "      <td>2020-07-12</td>\n",
       "      <td>17:32:32</td>\n",
       "      <td>2020-07-12</td>\n",
       "      <td>17:44:56</td>\n",
       "    </tr>\n",
       "    <tr>\n",
       "      <th>154963</th>\n",
       "      <td>007588EAADE2C43D</td>\n",
       "      <td>docked_bike</td>\n",
       "      <td>Washington St at Kearny St</td>\n",
       "      <td>10</td>\n",
       "      <td>Green St at Van Ness Ave</td>\n",
       "      <td>496</td>\n",
       "      <td>casual</td>\n",
       "      <td>2020-07-12</td>\n",
       "      <td>18:20:15</td>\n",
       "      <td>2020-07-12</td>\n",
       "      <td>19:03:19</td>\n",
       "    </tr>\n",
       "    <tr>\n",
       "      <th>154964</th>\n",
       "      <td>7B538D4F6299E5F9</td>\n",
       "      <td>docked_bike</td>\n",
       "      <td>Green St at Van Ness Ave</td>\n",
       "      <td>496</td>\n",
       "      <td>Washington St at Kearny St</td>\n",
       "      <td>10</td>\n",
       "      <td>casual</td>\n",
       "      <td>2020-07-12</td>\n",
       "      <td>19:04:52</td>\n",
       "      <td>2020-07-12</td>\n",
       "      <td>19:57:50</td>\n",
       "    </tr>\n",
       "    <tr>\n",
       "      <th>154965</th>\n",
       "      <td>06B455C0C83B9C16</td>\n",
       "      <td>docked_bike</td>\n",
       "      <td>Market St at Steuart St</td>\n",
       "      <td>16</td>\n",
       "      <td>Embarcadero BART Station (Beale St at Market St)</td>\n",
       "      <td>17</td>\n",
       "      <td>casual</td>\n",
       "      <td>2020-07-12</td>\n",
       "      <td>16:13:57</td>\n",
       "      <td>2020-07-12</td>\n",
       "      <td>17:29:43</td>\n",
       "    </tr>\n",
       "    <tr>\n",
       "      <th>154966</th>\n",
       "      <td>20E2287988214948</td>\n",
       "      <td>docked_bike</td>\n",
       "      <td>Cruise Terminal at Pier 27</td>\n",
       "      <td>462</td>\n",
       "      <td>Market St at Steuart St</td>\n",
       "      <td>16</td>\n",
       "      <td>casual</td>\n",
       "      <td>2020-07-12</td>\n",
       "      <td>15:47:48</td>\n",
       "      <td>2020-07-12</td>\n",
       "      <td>15:59:13</td>\n",
       "    </tr>\n",
       "  </tbody>\n",
       "</table>\n",
       "<p>83530 rows × 11 columns</p>\n",
       "</div>"
      ],
      "text/plain": [
       "                 ride_id  rideable_type  \\\n",
       "1       A64F0CD3A8E59529  electric_bike   \n",
       "12      69870487B4A7E755  electric_bike   \n",
       "13      D33B8F211BE3957D  electric_bike   \n",
       "17      1D66FB2B5768E4F7  electric_bike   \n",
       "18      A27702B61828E941  electric_bike   \n",
       "...                  ...            ...   \n",
       "154962  E084E6C3FA402D75    docked_bike   \n",
       "154963  007588EAADE2C43D    docked_bike   \n",
       "154964  7B538D4F6299E5F9    docked_bike   \n",
       "154965  06B455C0C83B9C16    docked_bike   \n",
       "154966  20E2287988214948    docked_bike   \n",
       "\n",
       "                                      start_station_name  start_station_id  \\\n",
       "1                          Buchanan St at North Point St               400   \n",
       "12                                 Mission Bay Kids Park                92   \n",
       "13                               Church St at Duboce Ave                85   \n",
       "17                                 22nd St at Dolores St               131   \n",
       "18                                 Laguna St at Hayes St                74   \n",
       "...                                                  ...               ...   \n",
       "154962  Embarcadero BART Station (Beale St at Market St)                17   \n",
       "154963                        Washington St at Kearny St                10   \n",
       "154964                          Green St at Van Ness Ave               496   \n",
       "154965                           Market St at Steuart St                16   \n",
       "154966                        Cruise Terminal at Pier 27               462   \n",
       "\n",
       "                                        end_station_name  end_station_id  \\\n",
       "1                          Buchanan St at North Point St             400   \n",
       "12                          The Embarcadero at Bryant St              28   \n",
       "13                               Church St at Duboce Ave              85   \n",
       "17                                 Laguna St at Hayes St              74   \n",
       "18                                 22nd St at Dolores St             131   \n",
       "...                                                  ...             ...   \n",
       "154962                        Washington St at Kearny St              10   \n",
       "154963                          Green St at Van Ness Ave             496   \n",
       "154964                        Washington St at Kearny St              10   \n",
       "154965  Embarcadero BART Station (Beale St at Market St)              17   \n",
       "154966                           Market St at Steuart St              16   \n",
       "\n",
       "       member_casual  start_date start_time    end_date  end_time  \n",
       "1             casual  2020-07-31   19:42:50  2020-07-31  19:49:54  \n",
       "12            casual  2020-07-22   18:57:38  2020-07-22  19:09:26  \n",
       "13            casual  2020-07-23   16:44:02  2020-07-23  16:44:31  \n",
       "17            casual  2020-07-22   17:12:32  2020-07-22  17:24:56  \n",
       "18            casual  2020-07-22   20:45:16  2020-07-22  20:59:15  \n",
       "...              ...         ...        ...         ...       ...  \n",
       "154962        casual  2020-07-12   17:32:32  2020-07-12  17:44:56  \n",
       "154963        casual  2020-07-12   18:20:15  2020-07-12  19:03:19  \n",
       "154964        casual  2020-07-12   19:04:52  2020-07-12  19:57:50  \n",
       "154965        casual  2020-07-12   16:13:57  2020-07-12  17:29:43  \n",
       "154966        casual  2020-07-12   15:47:48  2020-07-12  15:59:13  \n",
       "\n",
       "[83530 rows x 11 columns]"
      ]
     },
     "execution_count": 11,
     "metadata": {},
     "output_type": "execute_result"
    }
   ],
   "source": [
    "#Separate date and time from each other\n",
    "def SeparateDateTime(x,y):\n",
    "    df_clean[y+'date']=pd.to_datetime(x,format='%Y-%m-%d %H:%M:%S').dt.date\n",
    "    df_clean[y+'time']= pd.to_datetime(x,format='%Y-%m-%d %H:%M:%S').dt.time\n",
    "    return df_clean\n",
    "\n",
    "SeparateDateTime(df['started_at'],'start_')\n",
    "SeparateDateTime(df['ended_at'],'end_')"
   ]
  },
  {
   "cell_type": "markdown",
   "metadata": {},
   "source": [
    "Calculate the duration "
   ]
  },
  {
   "cell_type": "code",
   "execution_count": 12,
   "metadata": {},
   "outputs": [
    {
     "name": "stderr",
     "output_type": "stream",
     "text": [
      "C:\\Users\\FOFO\\anaconda3\\lib\\site-packages\\ipykernel_launcher.py:10: SettingWithCopyWarning: \n",
      "A value is trying to be set on a copy of a slice from a DataFrame\n",
      "\n",
      "See the caveats in the documentation: https://pandas.pydata.org/pandas-docs/stable/user_guide/indexing.html#returning-a-view-versus-a-copy\n",
      "  # Remove the CWD from sys.path while we load stuff.\n"
     ]
    }
   ],
   "source": [
    "#Calculate the duration\n",
    "df_clean['duration']=pd.to_datetime(df_clean['end_time'].astype(str)) - pd.to_datetime(df_clean['start_time'].astype(str))\n",
    "\n",
    "#Calculate the duration in minutes\n",
    "df_clean['Duration_minutes']=df_clean['duration'].dt.total_seconds().div(60).astype(int)\n",
    "\n",
    "#Calculate 23 between 24 or 0 hour\n",
    "for x in df_clean.index :\n",
    "    if(df_clean['Duration_minutes'][x]<-0) :\n",
    "        df_clean['Duration_minutes'][x]=df_clean['Duration_minutes'][x]--1440        \n",
    "#Calculate the duration in seconds\n",
    "df_clean['Duration_seconds']=df_clean['Duration_minutes']*60"
   ]
  },
  {
   "cell_type": "markdown",
   "metadata": {},
   "source": [
    "Calculate days "
   ]
  },
  {
   "cell_type": "code",
   "execution_count": 13,
   "metadata": {},
   "outputs": [],
   "source": [
    "#change data type to integer\n",
    "df_clean['start_date'] = pd.to_datetime(df_clean['start_date'])\n",
    "df_clean['end_date'] = pd.to_datetime(df_clean['end_date'])\n",
    "\n",
    "#Calculate days \n",
    "df_clean['start_day'] = df_clean.start_date.dt.day\n",
    "df_clean['end_day'] = df_clean.end_date.dt.day\n",
    "\n",
    "#Calculate day of week\n",
    "df_clean['day_of_week'] = df_clean['start_date'].dt.day_name()\n",
    "\n",
    "\n"
   ]
  },
  {
   "cell_type": "code",
   "execution_count": 14,
   "metadata": {},
   "outputs": [
    {
     "name": "stdout",
     "output_type": "stream",
     "text": [
      "<class 'pandas.core.frame.DataFrame'>\n",
      "Int64Index: 83530 entries, 1 to 154966\n",
      "Data columns (total 17 columns):\n",
      " #   Column              Non-Null Count  Dtype          \n",
      "---  ------              --------------  -----          \n",
      " 0   ride_id             83530 non-null  object         \n",
      " 1   rideable_type       83530 non-null  object         \n",
      " 2   start_station_name  83530 non-null  object         \n",
      " 3   start_station_id    83530 non-null  int32          \n",
      " 4   end_station_name    83530 non-null  object         \n",
      " 5   end_station_id      83530 non-null  int32          \n",
      " 6   member_casual       83530 non-null  object         \n",
      " 7   start_date          83530 non-null  datetime64[ns] \n",
      " 8   start_time          83530 non-null  object         \n",
      " 9   end_date            83530 non-null  datetime64[ns] \n",
      " 10  end_time            83530 non-null  object         \n",
      " 11  duration            83530 non-null  timedelta64[ns]\n",
      " 12  Duration_minutes    83530 non-null  int32          \n",
      " 13  Duration_seconds    83530 non-null  int32          \n",
      " 14  start_day           83530 non-null  int64          \n",
      " 15  end_day             83530 non-null  int64          \n",
      " 16  day_of_week         83530 non-null  object         \n",
      "dtypes: datetime64[ns](2), int32(4), int64(2), object(8), timedelta64[ns](1)\n",
      "memory usage: 12.7+ MB\n"
     ]
    }
   ],
   "source": [
    "df_clean.info()"
   ]
  },
  {
   "cell_type": "code",
   "execution_count": 15,
   "metadata": {},
   "outputs": [
    {
     "data": {
      "text/html": [
       "<div>\n",
       "<style scoped>\n",
       "    .dataframe tbody tr th:only-of-type {\n",
       "        vertical-align: middle;\n",
       "    }\n",
       "\n",
       "    .dataframe tbody tr th {\n",
       "        vertical-align: top;\n",
       "    }\n",
       "\n",
       "    .dataframe thead th {\n",
       "        text-align: right;\n",
       "    }\n",
       "</style>\n",
       "<table border=\"1\" class=\"dataframe\">\n",
       "  <thead>\n",
       "    <tr style=\"text-align: right;\">\n",
       "      <th></th>\n",
       "      <th>ride_id</th>\n",
       "      <th>rideable_type</th>\n",
       "      <th>start_station_name</th>\n",
       "      <th>start_station_id</th>\n",
       "      <th>end_station_name</th>\n",
       "      <th>end_station_id</th>\n",
       "      <th>member_casual</th>\n",
       "      <th>start_date</th>\n",
       "      <th>start_time</th>\n",
       "      <th>end_date</th>\n",
       "      <th>end_time</th>\n",
       "      <th>duration</th>\n",
       "      <th>Duration_minutes</th>\n",
       "      <th>Duration_seconds</th>\n",
       "      <th>start_day</th>\n",
       "      <th>end_day</th>\n",
       "      <th>day_of_week</th>\n",
       "    </tr>\n",
       "  </thead>\n",
       "  <tbody>\n",
       "    <tr>\n",
       "      <th>1</th>\n",
       "      <td>A64F0CD3A8E59529</td>\n",
       "      <td>electric_bike</td>\n",
       "      <td>Buchanan St at North Point St</td>\n",
       "      <td>400</td>\n",
       "      <td>Buchanan St at North Point St</td>\n",
       "      <td>400</td>\n",
       "      <td>casual</td>\n",
       "      <td>2020-07-31</td>\n",
       "      <td>19:42:50</td>\n",
       "      <td>2020-07-31</td>\n",
       "      <td>19:49:54</td>\n",
       "      <td>00:07:04</td>\n",
       "      <td>7</td>\n",
       "      <td>420</td>\n",
       "      <td>31</td>\n",
       "      <td>31</td>\n",
       "      <td>Friday</td>\n",
       "    </tr>\n",
       "    <tr>\n",
       "      <th>12</th>\n",
       "      <td>69870487B4A7E755</td>\n",
       "      <td>electric_bike</td>\n",
       "      <td>Mission Bay Kids Park</td>\n",
       "      <td>92</td>\n",
       "      <td>The Embarcadero at Bryant St</td>\n",
       "      <td>28</td>\n",
       "      <td>casual</td>\n",
       "      <td>2020-07-22</td>\n",
       "      <td>18:57:38</td>\n",
       "      <td>2020-07-22</td>\n",
       "      <td>19:09:26</td>\n",
       "      <td>00:11:48</td>\n",
       "      <td>11</td>\n",
       "      <td>660</td>\n",
       "      <td>22</td>\n",
       "      <td>22</td>\n",
       "      <td>Wednesday</td>\n",
       "    </tr>\n",
       "    <tr>\n",
       "      <th>13</th>\n",
       "      <td>D33B8F211BE3957D</td>\n",
       "      <td>electric_bike</td>\n",
       "      <td>Church St at Duboce Ave</td>\n",
       "      <td>85</td>\n",
       "      <td>Church St at Duboce Ave</td>\n",
       "      <td>85</td>\n",
       "      <td>casual</td>\n",
       "      <td>2020-07-23</td>\n",
       "      <td>16:44:02</td>\n",
       "      <td>2020-07-23</td>\n",
       "      <td>16:44:31</td>\n",
       "      <td>00:00:29</td>\n",
       "      <td>0</td>\n",
       "      <td>0</td>\n",
       "      <td>23</td>\n",
       "      <td>23</td>\n",
       "      <td>Thursday</td>\n",
       "    </tr>\n",
       "    <tr>\n",
       "      <th>17</th>\n",
       "      <td>1D66FB2B5768E4F7</td>\n",
       "      <td>electric_bike</td>\n",
       "      <td>22nd St at Dolores St</td>\n",
       "      <td>131</td>\n",
       "      <td>Laguna St at Hayes St</td>\n",
       "      <td>74</td>\n",
       "      <td>casual</td>\n",
       "      <td>2020-07-22</td>\n",
       "      <td>17:12:32</td>\n",
       "      <td>2020-07-22</td>\n",
       "      <td>17:24:56</td>\n",
       "      <td>00:12:24</td>\n",
       "      <td>12</td>\n",
       "      <td>720</td>\n",
       "      <td>22</td>\n",
       "      <td>22</td>\n",
       "      <td>Wednesday</td>\n",
       "    </tr>\n",
       "    <tr>\n",
       "      <th>18</th>\n",
       "      <td>A27702B61828E941</td>\n",
       "      <td>electric_bike</td>\n",
       "      <td>Laguna St at Hayes St</td>\n",
       "      <td>74</td>\n",
       "      <td>22nd St at Dolores St</td>\n",
       "      <td>131</td>\n",
       "      <td>casual</td>\n",
       "      <td>2020-07-22</td>\n",
       "      <td>20:45:16</td>\n",
       "      <td>2020-07-22</td>\n",
       "      <td>20:59:15</td>\n",
       "      <td>00:13:59</td>\n",
       "      <td>13</td>\n",
       "      <td>780</td>\n",
       "      <td>22</td>\n",
       "      <td>22</td>\n",
       "      <td>Wednesday</td>\n",
       "    </tr>\n",
       "    <tr>\n",
       "      <th>...</th>\n",
       "      <td>...</td>\n",
       "      <td>...</td>\n",
       "      <td>...</td>\n",
       "      <td>...</td>\n",
       "      <td>...</td>\n",
       "      <td>...</td>\n",
       "      <td>...</td>\n",
       "      <td>...</td>\n",
       "      <td>...</td>\n",
       "      <td>...</td>\n",
       "      <td>...</td>\n",
       "      <td>...</td>\n",
       "      <td>...</td>\n",
       "      <td>...</td>\n",
       "      <td>...</td>\n",
       "      <td>...</td>\n",
       "      <td>...</td>\n",
       "    </tr>\n",
       "    <tr>\n",
       "      <th>154962</th>\n",
       "      <td>E084E6C3FA402D75</td>\n",
       "      <td>docked_bike</td>\n",
       "      <td>Embarcadero BART Station (Beale St at Market St)</td>\n",
       "      <td>17</td>\n",
       "      <td>Washington St at Kearny St</td>\n",
       "      <td>10</td>\n",
       "      <td>casual</td>\n",
       "      <td>2020-07-12</td>\n",
       "      <td>17:32:32</td>\n",
       "      <td>2020-07-12</td>\n",
       "      <td>17:44:56</td>\n",
       "      <td>00:12:24</td>\n",
       "      <td>12</td>\n",
       "      <td>720</td>\n",
       "      <td>12</td>\n",
       "      <td>12</td>\n",
       "      <td>Sunday</td>\n",
       "    </tr>\n",
       "    <tr>\n",
       "      <th>154963</th>\n",
       "      <td>007588EAADE2C43D</td>\n",
       "      <td>docked_bike</td>\n",
       "      <td>Washington St at Kearny St</td>\n",
       "      <td>10</td>\n",
       "      <td>Green St at Van Ness Ave</td>\n",
       "      <td>496</td>\n",
       "      <td>casual</td>\n",
       "      <td>2020-07-12</td>\n",
       "      <td>18:20:15</td>\n",
       "      <td>2020-07-12</td>\n",
       "      <td>19:03:19</td>\n",
       "      <td>00:43:04</td>\n",
       "      <td>43</td>\n",
       "      <td>2580</td>\n",
       "      <td>12</td>\n",
       "      <td>12</td>\n",
       "      <td>Sunday</td>\n",
       "    </tr>\n",
       "    <tr>\n",
       "      <th>154964</th>\n",
       "      <td>7B538D4F6299E5F9</td>\n",
       "      <td>docked_bike</td>\n",
       "      <td>Green St at Van Ness Ave</td>\n",
       "      <td>496</td>\n",
       "      <td>Washington St at Kearny St</td>\n",
       "      <td>10</td>\n",
       "      <td>casual</td>\n",
       "      <td>2020-07-12</td>\n",
       "      <td>19:04:52</td>\n",
       "      <td>2020-07-12</td>\n",
       "      <td>19:57:50</td>\n",
       "      <td>00:52:58</td>\n",
       "      <td>52</td>\n",
       "      <td>3120</td>\n",
       "      <td>12</td>\n",
       "      <td>12</td>\n",
       "      <td>Sunday</td>\n",
       "    </tr>\n",
       "    <tr>\n",
       "      <th>154965</th>\n",
       "      <td>06B455C0C83B9C16</td>\n",
       "      <td>docked_bike</td>\n",
       "      <td>Market St at Steuart St</td>\n",
       "      <td>16</td>\n",
       "      <td>Embarcadero BART Station (Beale St at Market St)</td>\n",
       "      <td>17</td>\n",
       "      <td>casual</td>\n",
       "      <td>2020-07-12</td>\n",
       "      <td>16:13:57</td>\n",
       "      <td>2020-07-12</td>\n",
       "      <td>17:29:43</td>\n",
       "      <td>01:15:46</td>\n",
       "      <td>75</td>\n",
       "      <td>4500</td>\n",
       "      <td>12</td>\n",
       "      <td>12</td>\n",
       "      <td>Sunday</td>\n",
       "    </tr>\n",
       "    <tr>\n",
       "      <th>154966</th>\n",
       "      <td>20E2287988214948</td>\n",
       "      <td>docked_bike</td>\n",
       "      <td>Cruise Terminal at Pier 27</td>\n",
       "      <td>462</td>\n",
       "      <td>Market St at Steuart St</td>\n",
       "      <td>16</td>\n",
       "      <td>casual</td>\n",
       "      <td>2020-07-12</td>\n",
       "      <td>15:47:48</td>\n",
       "      <td>2020-07-12</td>\n",
       "      <td>15:59:13</td>\n",
       "      <td>00:11:25</td>\n",
       "      <td>11</td>\n",
       "      <td>660</td>\n",
       "      <td>12</td>\n",
       "      <td>12</td>\n",
       "      <td>Sunday</td>\n",
       "    </tr>\n",
       "  </tbody>\n",
       "</table>\n",
       "<p>83530 rows × 17 columns</p>\n",
       "</div>"
      ],
      "text/plain": [
       "                 ride_id  rideable_type  \\\n",
       "1       A64F0CD3A8E59529  electric_bike   \n",
       "12      69870487B4A7E755  electric_bike   \n",
       "13      D33B8F211BE3957D  electric_bike   \n",
       "17      1D66FB2B5768E4F7  electric_bike   \n",
       "18      A27702B61828E941  electric_bike   \n",
       "...                  ...            ...   \n",
       "154962  E084E6C3FA402D75    docked_bike   \n",
       "154963  007588EAADE2C43D    docked_bike   \n",
       "154964  7B538D4F6299E5F9    docked_bike   \n",
       "154965  06B455C0C83B9C16    docked_bike   \n",
       "154966  20E2287988214948    docked_bike   \n",
       "\n",
       "                                      start_station_name  start_station_id  \\\n",
       "1                          Buchanan St at North Point St               400   \n",
       "12                                 Mission Bay Kids Park                92   \n",
       "13                               Church St at Duboce Ave                85   \n",
       "17                                 22nd St at Dolores St               131   \n",
       "18                                 Laguna St at Hayes St                74   \n",
       "...                                                  ...               ...   \n",
       "154962  Embarcadero BART Station (Beale St at Market St)                17   \n",
       "154963                        Washington St at Kearny St                10   \n",
       "154964                          Green St at Van Ness Ave               496   \n",
       "154965                           Market St at Steuart St                16   \n",
       "154966                        Cruise Terminal at Pier 27               462   \n",
       "\n",
       "                                        end_station_name  end_station_id  \\\n",
       "1                          Buchanan St at North Point St             400   \n",
       "12                          The Embarcadero at Bryant St              28   \n",
       "13                               Church St at Duboce Ave              85   \n",
       "17                                 Laguna St at Hayes St              74   \n",
       "18                                 22nd St at Dolores St             131   \n",
       "...                                                  ...             ...   \n",
       "154962                        Washington St at Kearny St              10   \n",
       "154963                          Green St at Van Ness Ave             496   \n",
       "154964                        Washington St at Kearny St              10   \n",
       "154965  Embarcadero BART Station (Beale St at Market St)              17   \n",
       "154966                           Market St at Steuart St              16   \n",
       "\n",
       "       member_casual start_date start_time   end_date  end_time duration  \\\n",
       "1             casual 2020-07-31   19:42:50 2020-07-31  19:49:54 00:07:04   \n",
       "12            casual 2020-07-22   18:57:38 2020-07-22  19:09:26 00:11:48   \n",
       "13            casual 2020-07-23   16:44:02 2020-07-23  16:44:31 00:00:29   \n",
       "17            casual 2020-07-22   17:12:32 2020-07-22  17:24:56 00:12:24   \n",
       "18            casual 2020-07-22   20:45:16 2020-07-22  20:59:15 00:13:59   \n",
       "...              ...        ...        ...        ...       ...      ...   \n",
       "154962        casual 2020-07-12   17:32:32 2020-07-12  17:44:56 00:12:24   \n",
       "154963        casual 2020-07-12   18:20:15 2020-07-12  19:03:19 00:43:04   \n",
       "154964        casual 2020-07-12   19:04:52 2020-07-12  19:57:50 00:52:58   \n",
       "154965        casual 2020-07-12   16:13:57 2020-07-12  17:29:43 01:15:46   \n",
       "154966        casual 2020-07-12   15:47:48 2020-07-12  15:59:13 00:11:25   \n",
       "\n",
       "        Duration_minutes  Duration_seconds  start_day  end_day day_of_week  \n",
       "1                      7               420         31       31      Friday  \n",
       "12                    11               660         22       22   Wednesday  \n",
       "13                     0                 0         23       23    Thursday  \n",
       "17                    12               720         22       22   Wednesday  \n",
       "18                    13               780         22       22   Wednesday  \n",
       "...                  ...               ...        ...      ...         ...  \n",
       "154962                12               720         12       12      Sunday  \n",
       "154963                43              2580         12       12      Sunday  \n",
       "154964                52              3120         12       12      Sunday  \n",
       "154965                75              4500         12       12      Sunday  \n",
       "154966                11               660         12       12      Sunday  \n",
       "\n",
       "[83530 rows x 17 columns]"
      ]
     },
     "execution_count": 15,
     "metadata": {},
     "output_type": "execute_result"
    }
   ],
   "source": [
    "#show dataset\n",
    "df_clean"
   ]
  },
  {
   "cell_type": "markdown",
   "metadata": {},
   "source": [
    "## What is the structure of your dataset?\n"
   ]
  },
  {
   "cell_type": "markdown",
   "metadata": {},
   "source": [
    "There are 83530 trip in the dataset with 11 features ,Most variables are string in nature, but the numeric variables are start_station_id,end_station_id  .\n",
    "\n",
    "ride_id: Trip ID\n",
    "\n",
    "rideable_type: the Bike type (docked bike,electric bike )\n",
    "\n",
    "start_station_name :Name Start Station \n",
    "\n",
    "start_station_id: Start Station ID\n",
    "\n",
    "end_station_name :Name End Station \n",
    " \n",
    "end_station_id :End Station ID\n",
    "\n",
    "member_casual: User Type (Subscriber or Customer – “Subscriber” = Member or “Customer” = Casual)\n",
    " \n",
    "start_date and start_time :Start Time and Date\n",
    "\n",
    "end_date and end_time :EndTime and Date"
   ]
  },
  {
   "cell_type": "markdown",
   "metadata": {},
   "source": [
    "## What is/are the main feature(s) of interest in your dataset?\n"
   ]
  },
  {
   "cell_type": "markdown",
   "metadata": {},
   "source": [
    "\n",
    "I am interested in knowing the factors that affect the trip duration"
   ]
  },
  {
   "cell_type": "markdown",
   "metadata": {},
   "source": [
    "## What features in the dataset do you think will help support your investigation into your feature(s) of interest?\n"
   ]
  },
  {
   "cell_type": "markdown",
   "metadata": {},
   "source": [
    "start_date and start_time/end_date and end_time\n",
    "\n",
    "rideable_type\n",
    "\n",
    "member_casual\n"
   ]
  },
  {
   "cell_type": "markdown",
   "metadata": {},
   "source": [
    "# Univariate Exploration\n"
   ]
  },
  {
   "cell_type": "markdown",
   "metadata": {},
   "source": [
    "### Who are the most user taking trips ?\n",
    "\n"
   ]
  },
  {
   "cell_type": "code",
   "execution_count": 16,
   "metadata": {},
   "outputs": [
    {
     "data": {
      "image/png": "[encoded data removed]",
      "text/plain": [
       "<Figure size 720x504 with 1 Axes>"
      ]
     },
     "metadata": {
      "needs_background": "light"
     },
     "output_type": "display_data"
    }
   ],
   "source": [
    "#size plot\n",
    "plt.figure(figsize = (10, 7))\n",
    "plt.style.use('seaborn')\n",
    "\n",
    "sb.countplot(data = df_clean, x = 'member_casual')\n",
    "\n",
    "# add numbers of total member_casual\n",
    "n_points = df_clean.shape[0]\n",
    "cat_counts = df_clean['member_casual'].value_counts()\n",
    "locs, labels = plt.xticks() # get the current tick locations and labels\n",
    "\n",
    "# loop through each pair of locations and labels\n",
    "for loc, label in zip(locs, labels):\n",
    "\n",
    "    # get the text property for the label to get the correct count\n",
    "    count = cat_counts[label.get_text()]\n",
    "    pct_string = '{:0.1f}%'.format(100*count/n_points)\n",
    "\n",
    "    # print the annotation just below the top of the bar\n",
    "    plt.text(loc, count-8, pct_string, ha = 'center', color = 'b')\n",
    "    \n",
    "plt.title(' Type of Uesr', fontsize = 18);\n",
    "plt.show();"
   ]
  },
  {
   "cell_type": "markdown",
   "metadata": {},
   "source": [
    "#### The casual user more than member user makes the trip.\n",
    "It reaches a rate of 54.3 percent casual users is more than the  rate of 45.7 percent member users making the trip.\n"
   ]
  },
  {
   "cell_type": "markdown",
   "metadata": {},
   "source": [
    "### What is the most common type of bike used?"
   ]
  },
  {
   "cell_type": "code",
   "execution_count": 17,
   "metadata": {},
   "outputs": [
    {
     "data": {
      "image/png": "[encoded data removed]",
      "text/plain": [
       "<Figure size 720x504 with 1 Axes>"
      ]
     },
     "metadata": {},
     "output_type": "display_data"
    }
   ],
   "source": [
    "plt.figure(figsize = (10, 7))\n",
    "plt.style.use('seaborn')\n",
    "sorted_counts = df_clean['rideable_type'].value_counts()\n",
    "plt.pie(sorted_counts, labels = sorted_counts.index, startangle = 90,\n",
    "        counterclock = False, wedgeprops = {'width' : 0.4});\n",
    "plt.axis('square');\n",
    "plt.title(' Type of Bike', fontsize = 18);\n",
    "plt.show();"
   ]
  },
  {
   "cell_type": "markdown",
   "metadata": {},
   "source": [
    "#### The most common type of bicycle  is docked bike"
   ]
  },
  {
   "cell_type": "markdown",
   "metadata": {},
   "source": [
    "### How long do people spend the trip ?"
   ]
  },
  {
   "cell_type": "code",
   "execution_count": 18,
   "metadata": {},
   "outputs": [
    {
     "data": {
      "image/png": "[encoded data removed]",
      "text/plain": [
       "<Figure size 720x504 with 1 Axes>"
      ]
     },
     "metadata": {},
     "output_type": "display_data"
    }
   ],
   "source": [
    "plt.figure(figsize = (10, 7))\n",
    "plt.style.use('seaborn')\n",
    "plt.hist(data =df_clean, x = 'Duration_minutes');\n",
    "plt.title('Duration of Trips', fontsize = 18);\n",
    "plt.xlabel('Duration in Minutes');\n",
    "plt.ylabel('Member Count');\n",
    "plt.show();"
   ]
  },
  {
   "cell_type": "code",
   "execution_count": 19,
   "metadata": {},
   "outputs": [
    {
     "data": {
      "image/png": "[encoded data removed]",
      "text/plain": [
       "<Figure size 720x504 with 1 Axes>"
      ]
     },
     "metadata": {},
     "output_type": "display_data"
    }
   ],
   "source": [
    "plt.figure(figsize = (10, 7))\n",
    "plt.style.use('seaborn')\n",
    "bins = np.arange(0, df_clean['Duration_minutes'].max()+1, 1)\n",
    "plt.hist(data = df_clean, x = 'Duration_minutes', bins = bins);\n",
    "plt.xlim([0,200])\n",
    "plt.title('Duration of Trips',fontsize = 18);\n",
    "plt.xlabel('Duration in Minutes');\n",
    "plt.ylabel('Member Count');\n",
    "plt.show();"
   ]
  },
  {
   "cell_type": "markdown",
   "metadata": {},
   "source": [
    "Given the distribution of the distribution of How long do people spend the trip in minutes ,we see some outliers at the end to extremely skewed the data , I set a top limit of 200 minutes. It's still right-skewed we can see that the peak usage falls in that 2.5 - 20 minutes range, so people are using these bikes for quick rides."
   ]
  },
  {
   "cell_type": "markdown",
   "metadata": {},
   "source": [
    "## Bivariate Exploration"
   ]
  },
  {
   "cell_type": "markdown",
   "metadata": {},
   "source": [
    "### What day of the week people like to trip by bike?"
   ]
  },
  {
   "cell_type": "code",
   "execution_count": 20,
   "metadata": {},
   "outputs": [
    {
     "data": {
      "image/png": "[encoded data removed]",
      "text/plain": [
       "<Figure size 720x504 with 1 Axes>"
      ]
     },
     "metadata": {},
     "output_type": "display_data"
    }
   ],
   "source": [
    "\n",
    "plt.figure(figsize = (10, 7))\n",
    "plt.style.use('seaborn')\n",
    "sb.pointplot(data = df_clean, x = 'day_of_week', y = 'Duration_minutes', linestyles = \"\")\n",
    "plt.ylabel('Duration in minutes');\n",
    "plt.xlabel('Day of week');\n",
    "plt.title('Duration Per Days of week');\n",
    "plt.show()"
   ]
  },
  {
   "cell_type": "markdown",
   "metadata": {},
   "source": [
    "As we can observe,sunday has the most trips duration and close to it on saturday and the least day of the week is Thursday ."
   ]
  },
  {
   "cell_type": "code",
   "execution_count": 21,
   "metadata": {},
   "outputs": [],
   "source": [
    "d=df_clean.day_of_week.value_counts()\n",
    "d\n",
    "d=df_clean.day_of_week.value_counts()\n"
   ]
  },
  {
   "cell_type": "markdown",
   "metadata": {},
   "source": [
    " ### Which bike is used the most for each type of user ?"
   ]
  },
  {
   "cell_type": "code",
   "execution_count": 22,
   "metadata": {},
   "outputs": [
    {
     "data": {
      "image/png": "[encoded data removed]",
      "text/plain": [
       "<Figure size 720x504 with 2 Axes>"
      ]
     },
     "metadata": {},
     "output_type": "display_data"
    }
   ],
   "source": [
    "counts_data = df_clean.groupby(['rideable_type', 'member_casual']).size()\n",
    "counts_data = counts_data.reset_index()\n",
    "counts_data = counts_data.pivot(index = 'rideable_type', columns = 'member_casual')\n",
    "\n",
    "plt.figure(figsize = (10, 7))\n",
    "sb.heatmap(counts_data, annot = True, fmt = 'd',cmap = 'vlag_r',center = 1);\n",
    "plt.title('The bike used for each type of user', fontsize = 18);\n",
    "plt.show()"
   ]
  },
  {
   "cell_type": "markdown",
   "metadata": {},
   "source": [
    "We notice that the subscribing members use the docked bike more then electric bike, as well as the non-subscribers"
   ]
  },
  {
   "cell_type": "markdown",
   "metadata": {},
   "source": [
    "## Multivariate Exploration\n"
   ]
  },
  {
   "cell_type": "markdown",
   "metadata": {},
   "source": [
    "### What is the most consumed bike on trips during a month?"
   ]
  },
  {
   "cell_type": "code",
   "execution_count": 23,
   "metadata": {},
   "outputs": [
    {
     "data": {
      "image/png": "[encoded data removed]",
      "text/plain": [
       "<Figure size 720x504 with 1 Axes>"
      ]
     },
     "metadata": {},
     "output_type": "display_data"
    }
   ],
   "source": [
    "plt.figure(figsize = (10, 7))\n",
    "plt.style.use('seaborn')\n",
    "\n",
    "sb.pointplot(data = df_clean.sort_values(by='start_day'), x = 'start_day', y = 'Duration_minutes',\n",
    "             hue = 'rideable_type', palette = 'muted', ci = None);\n",
    "plt.title('The consume bikes on trips during a month', fontsize = 18);\n",
    "plt.legend(title = 'bike Type ');\n",
    "plt.xlabel('Days');\n",
    "plt.ylabel('Duration in Minutes');\n",
    "\n",
    "\n"
   ]
  },
  {
   "cell_type": "markdown",
   "metadata": {},
   "source": [
    "Note that the electronic bike is the most consumed than the docked bike But they have the same growth in the increase or decrease in consumption during the days of the month"
   ]
  },
  {
   "cell_type": "markdown",
   "metadata": {},
   "source": [
    "### Which bike do users prefer for a trip, and which days of the week do they prefer to use it?"
   ]
  },
  {
   "cell_type": "code",
   "execution_count": 26,
   "metadata": {},
   "outputs": [
    {
     "data": {
      "image/png": "[encoded data removed]",
      "text/plain": [
       "<Figure size 1008x1008 with 4 Axes>"
      ]
     },
     "metadata": {},
     "output_type": "display_data"
    }
   ],
   "source": [
    "\n",
    "\n",
    "plt.style.use('seaborn')\n",
    "\n",
    "g = sb.FacetGrid(data = df_clean, col = 'rideable_type', row = 'member_casual', height = 7,\n",
    "                margin_titles = True);\n",
    "g.map(plt.scatter, 'day_of_week','Duration_minutes');\n",
    "plt.show();"
   ]
  },
  {
   "cell_type": "markdown",
   "metadata": {},
   "source": [
    "\n",
    "\n",
    "We note that the electric bike is the least used and similarly consumed on all days of the week by all users and The docked bike is the most used by all users. But member users consume less than non-subscribers. member users use it more on Friday than on the rest of the week, and non-subscribers use it almost the same on all days of the week."
   ]
  },
  {
   "cell_type": "code",
   "execution_count": 25,
   "metadata": {},
   "outputs": [],
   "source": [
    "df_clean.to_csv('ford-gobike-master.csv', index=False, encoding = 'utf-8')"
   ]
  }
 ],
 "metadata": {
  "kernelspec": {
   "display_name": "Python 3",
   "language": "python",
   "name": "python3"
  },
  "language_info": {
   "codemirror_mode": {
    "name": "ipython",
    "version": 3
   },
   "file_extension": ".py",
   "mimetype": "text/x-python",
   "name": "python",
   "nbconvert_exporter": "python",
   "pygments_lexer": "ipython3",
   "version": "3.7.6"
  }
 },
 "nbformat": 4,
 "nbformat_minor": 4
}
